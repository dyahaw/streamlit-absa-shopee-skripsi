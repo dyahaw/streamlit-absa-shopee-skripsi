{
  "nbformat": 4,
  "nbformat_minor": 0,
  "metadata": {
    "colab": {
      "provenance": []
    },
    "kernelspec": {
      "name": "python3",
      "display_name": "Python 3"
    },
    "language_info": {
      "name": "python"
    }
  },
  "cells": [
    {
      "cell_type": "markdown",
      "metadata": {
        "id": "Od7UdoVnLdWd"
      },
      "source": [
        "Library :\n",
        "- google-play-scraper\n",
        "- pandas\n",
        "- numpy"
      ]
    },
    {
      "cell_type": "code",
      "metadata": {
        "id": "LldXZPhFL4ZM",
        "colab": {
          "base_uri": "https://localhost:8080/"
        },
        "outputId": "8655c87e-e9a0-43b0-9d25-bb0b24afc1ef"
      },
      "source": [
        "!pip install google-play-scraper"
      ],
      "execution_count": null,
      "outputs": [
        {
          "output_type": "stream",
          "name": "stdout",
          "text": [
            "Collecting google-play-scraper\n",
            "  Downloading google_play_scraper-1.2.4-py3-none-any.whl (28 kB)\n",
            "Installing collected packages: google-play-scraper\n",
            "Successfully installed google-play-scraper-1.2.4\n"
          ]
        }
      ]
    },
    {
      "cell_type": "code",
      "metadata": {
        "id": "EXE3fFLJMEJQ"
      },
      "source": [
        "from google_play_scraper import Sort, reviews_all, reviews, app\n",
        "import pandas as pd\n",
        "import numpy as np"
      ],
      "execution_count": null,
      "outputs": []
    },
    {
      "cell_type": "markdown",
      "metadata": {
        "id": "m9EK2lucMdw0"
      },
      "source": [
        "## Scraping Code"
      ]
    },
    {
      "cell_type": "markdown",
      "metadata": {
        "id": "y5Cds1v8NUy3"
      },
      "source": [
        "###Scrape desired count reviews"
      ]
    },
    {
      "cell_type": "code",
      "metadata": {
        "id": "Cf6nMwaONfL1"
      },
      "source": [
        "result, continuation_token = reviews(\n",
        "    'com.shopee.id',\n",
        "    lang='id',                # defaults to 'en'\n",
        "    country='id',             # defaults to 'us'\n",
        "    sort=Sort.MOST_RELEVANT,  # defaults to Sort.MOST_RELEVANT you can use Sort.NEWEST to get newst reviews\n",
        "    count=1400,               # defaults to 100\n",
        "    filter_score_with=None    # defaults to None(means all score) Use 1 or 2 or 3 or 4 or 5 to select certain score\n",
        ")"
      ],
      "execution_count": null,
      "outputs": []
    },
    {
      "cell_type": "markdown",
      "metadata": {
        "id": "j8jsuz1YN83E"
      },
      "source": [
        "##Scraping Result"
      ]
    },
    {
      "cell_type": "markdown",
      "metadata": {
        "id": "TlN9KywdOKYA"
      },
      "source": [
        "###code to see the preview data"
      ]
    },
    {
      "cell_type": "code",
      "metadata": {
        "id": "mDg5JNIFOFrm"
      },
      "source": [
        "scrapeddata = pd.DataFrame(np.array(result),columns=['review'])\n",
        "scrapeddata = pd.DataFrame(scrapeddata.pop('review').tolist())"
      ],
      "execution_count": null,
      "outputs": []
    },
    {
      "cell_type": "code",
      "source": [
        "scrapeddata.head()"
      ],
      "metadata": {
        "colab": {
          "base_uri": "https://localhost:8080/",
          "height": 600
        },
        "id": "yHuC7DxGHOQY",
        "outputId": "f618bf4a-777c-4ba7-8d1f-775b0eb4da59"
      },
      "execution_count": null,
      "outputs": [
        {
          "output_type": "execute_result",
          "data": {
            "text/plain": [
              "                               reviewId             userName  \\\n",
              "0  d9cb640a-5505-45ae-937c-3a4c9280fa04     Gharnis Misyatun   \n",
              "1  e25e2a1c-b42e-4030-858f-3d184e1be3e6  Zahiya Wardatunnisa   \n",
              "2  aa5c099b-8b2d-4cc3-8c85-1c345cdb3bdf            Epri Yadi   \n",
              "3  c206eb50-e987-4eff-b4ed-c3411556cdd9         gbd rahendra   \n",
              "4  4105b163-a600-48ed-a190-ef94f8cf6ad6              NEKOPOI   \n",
              "\n",
              "                                           userImage  \\\n",
              "0  https://play-lh.googleusercontent.com/a/AAcHTt...   \n",
              "1  https://play-lh.googleusercontent.com/a-/AD_cM...   \n",
              "2  https://play-lh.googleusercontent.com/a-/AD_cM...   \n",
              "3  https://play-lh.googleusercontent.com/a-/AD_cM...   \n",
              "4  https://play-lh.googleusercontent.com/a-/AD_cM...   \n",
              "\n",
              "                                             content  score  thumbsUpCount  \\\n",
              "0  Saya menurunkan bintang,karna saya mengalami k...      2            393   \n",
              "1  Haii! App ini bagus , kategori barang tersedia...      4            296   \n",
              "2  Tolong untuk pihak Shopee,Tolong untuk di eval...      1           5015   \n",
              "3  Sering muncul tulisan \"sedang downloading, sed...      4             20   \n",
              "4  Aplikasi sangat lemot , Kadang ngefreez di lam...      1           1222   \n",
              "\n",
              "  reviewCreatedVersion                  at  \\\n",
              "0              3.05.11 2023-07-22 19:00:33   \n",
              "1              3.05.09 2023-07-22 23:07:49   \n",
              "2              3.04.20 2023-06-29 06:39:11   \n",
              "3              3.05.11 2023-07-23 01:27:46   \n",
              "4              3.04.20 2023-07-06 14:58:45   \n",
              "\n",
              "                                        replyContent           repliedAt  \\\n",
              "0  Hi kak, maaf ya terkait kendala aplikasi km le... 2023-07-22 23:47:14   \n",
              "1                                               None                 NaT   \n",
              "2  Hai kak, maaf ya. Terkait kendala, mimin saran... 2023-06-29 07:18:27   \n",
              "3                                               None                 NaT   \n",
              "4  Hi kak, maaf banget ya atas kendalanya, mimin ... 2023-07-06 15:46:43   \n",
              "\n",
              "  appVersion  \n",
              "0    3.05.11  \n",
              "1    3.05.09  \n",
              "2    3.04.20  \n",
              "3    3.05.11  \n",
              "4    3.04.20  "
            ],
            "text/html": [
              "\n",
              "\n",
              "  <div id=\"df-1d46452e-3bb1-4388-8ab6-b766b886c184\">\n",
              "    <div class=\"colab-df-container\">\n",
              "      <div>\n",
              "<style scoped>\n",
              "    .dataframe tbody tr th:only-of-type {\n",
              "        vertical-align: middle;\n",
              "    }\n",
              "\n",
              "    .dataframe tbody tr th {\n",
              "        vertical-align: top;\n",
              "    }\n",
              "\n",
              "    .dataframe thead th {\n",
              "        text-align: right;\n",
              "    }\n",
              "</style>\n",
              "<table border=\"1\" class=\"dataframe\">\n",
              "  <thead>\n",
              "    <tr style=\"text-align: right;\">\n",
              "      <th></th>\n",
              "      <th>reviewId</th>\n",
              "      <th>userName</th>\n",
              "      <th>userImage</th>\n",
              "      <th>content</th>\n",
              "      <th>score</th>\n",
              "      <th>thumbsUpCount</th>\n",
              "      <th>reviewCreatedVersion</th>\n",
              "      <th>at</th>\n",
              "      <th>replyContent</th>\n",
              "      <th>repliedAt</th>\n",
              "      <th>appVersion</th>\n",
              "    </tr>\n",
              "  </thead>\n",
              "  <tbody>\n",
              "    <tr>\n",
              "      <th>0</th>\n",
              "      <td>d9cb640a-5505-45ae-937c-3a4c9280fa04</td>\n",
              "      <td>Gharnis Misyatun</td>\n",
              "      <td>https://play-lh.googleusercontent.com/a/AAcHTt...</td>\n",
              "      <td>Saya menurunkan bintang,karna saya mengalami k...</td>\n",
              "      <td>2</td>\n",
              "      <td>393</td>\n",
              "      <td>3.05.11</td>\n",
              "      <td>2023-07-22 19:00:33</td>\n",
              "      <td>Hi kak, maaf ya terkait kendala aplikasi km le...</td>\n",
              "      <td>2023-07-22 23:47:14</td>\n",
              "      <td>3.05.11</td>\n",
              "    </tr>\n",
              "    <tr>\n",
              "      <th>1</th>\n",
              "      <td>e25e2a1c-b42e-4030-858f-3d184e1be3e6</td>\n",
              "      <td>Zahiya Wardatunnisa</td>\n",
              "      <td>https://play-lh.googleusercontent.com/a-/AD_cM...</td>\n",
              "      <td>Haii! App ini bagus , kategori barang tersedia...</td>\n",
              "      <td>4</td>\n",
              "      <td>296</td>\n",
              "      <td>3.05.09</td>\n",
              "      <td>2023-07-22 23:07:49</td>\n",
              "      <td>None</td>\n",
              "      <td>NaT</td>\n",
              "      <td>3.05.09</td>\n",
              "    </tr>\n",
              "    <tr>\n",
              "      <th>2</th>\n",
              "      <td>aa5c099b-8b2d-4cc3-8c85-1c345cdb3bdf</td>\n",
              "      <td>Epri Yadi</td>\n",
              "      <td>https://play-lh.googleusercontent.com/a-/AD_cM...</td>\n",
              "      <td>Tolong untuk pihak Shopee,Tolong untuk di eval...</td>\n",
              "      <td>1</td>\n",
              "      <td>5015</td>\n",
              "      <td>3.04.20</td>\n",
              "      <td>2023-06-29 06:39:11</td>\n",
              "      <td>Hai kak, maaf ya. Terkait kendala, mimin saran...</td>\n",
              "      <td>2023-06-29 07:18:27</td>\n",
              "      <td>3.04.20</td>\n",
              "    </tr>\n",
              "    <tr>\n",
              "      <th>3</th>\n",
              "      <td>c206eb50-e987-4eff-b4ed-c3411556cdd9</td>\n",
              "      <td>gbd rahendra</td>\n",
              "      <td>https://play-lh.googleusercontent.com/a-/AD_cM...</td>\n",
              "      <td>Sering muncul tulisan \"sedang downloading, sed...</td>\n",
              "      <td>4</td>\n",
              "      <td>20</td>\n",
              "      <td>3.05.11</td>\n",
              "      <td>2023-07-23 01:27:46</td>\n",
              "      <td>None</td>\n",
              "      <td>NaT</td>\n",
              "      <td>3.05.11</td>\n",
              "    </tr>\n",
              "    <tr>\n",
              "      <th>4</th>\n",
              "      <td>4105b163-a600-48ed-a190-ef94f8cf6ad6</td>\n",
              "      <td>NEKOPOI</td>\n",
              "      <td>https://play-lh.googleusercontent.com/a-/AD_cM...</td>\n",
              "      <td>Aplikasi sangat lemot , Kadang ngefreez di lam...</td>\n",
              "      <td>1</td>\n",
              "      <td>1222</td>\n",
              "      <td>3.04.20</td>\n",
              "      <td>2023-07-06 14:58:45</td>\n",
              "      <td>Hi kak, maaf banget ya atas kendalanya, mimin ...</td>\n",
              "      <td>2023-07-06 15:46:43</td>\n",
              "      <td>3.04.20</td>\n",
              "    </tr>\n",
              "  </tbody>\n",
              "</table>\n",
              "</div>\n",
              "      <button class=\"colab-df-convert\" onclick=\"convertToInteractive('df-1d46452e-3bb1-4388-8ab6-b766b886c184')\"\n",
              "              title=\"Convert this dataframe to an interactive table.\"\n",
              "              style=\"display:none;\">\n",
              "\n",
              "  <svg xmlns=\"http://www.w3.org/2000/svg\" height=\"24px\"viewBox=\"0 0 24 24\"\n",
              "       width=\"24px\">\n",
              "    <path d=\"M0 0h24v24H0V0z\" fill=\"none\"/>\n",
              "    <path d=\"M18.56 5.44l.94 2.06.94-2.06 2.06-.94-2.06-.94-.94-2.06-.94 2.06-2.06.94zm-11 1L8.5 8.5l.94-2.06 2.06-.94-2.06-.94L8.5 2.5l-.94 2.06-2.06.94zm10 10l.94 2.06.94-2.06 2.06-.94-2.06-.94-.94-2.06-.94 2.06-2.06.94z\"/><path d=\"M17.41 7.96l-1.37-1.37c-.4-.4-.92-.59-1.43-.59-.52 0-1.04.2-1.43.59L10.3 9.45l-7.72 7.72c-.78.78-.78 2.05 0 2.83L4 21.41c.39.39.9.59 1.41.59.51 0 1.02-.2 1.41-.59l7.78-7.78 2.81-2.81c.8-.78.8-2.07 0-2.86zM5.41 20L4 18.59l7.72-7.72 1.47 1.35L5.41 20z\"/>\n",
              "  </svg>\n",
              "      </button>\n",
              "\n",
              "\n",
              "\n",
              "    <div id=\"df-702d1117-07d9-4f93-a78f-3f0fec6299a3\">\n",
              "      <button class=\"colab-df-quickchart\" onclick=\"quickchart('df-702d1117-07d9-4f93-a78f-3f0fec6299a3')\"\n",
              "              title=\"Suggest charts.\"\n",
              "              style=\"display:none;\">\n",
              "\n",
              "<svg xmlns=\"http://www.w3.org/2000/svg\" height=\"24px\"viewBox=\"0 0 24 24\"\n",
              "     width=\"24px\">\n",
              "    <g>\n",
              "        <path d=\"M19 3H5c-1.1 0-2 .9-2 2v14c0 1.1.9 2 2 2h14c1.1 0 2-.9 2-2V5c0-1.1-.9-2-2-2zM9 17H7v-7h2v7zm4 0h-2V7h2v10zm4 0h-2v-4h2v4z\"/>\n",
              "    </g>\n",
              "</svg>\n",
              "      </button>\n",
              "    </div>\n",
              "\n",
              "<style>\n",
              "  .colab-df-quickchart {\n",
              "    background-color: #E8F0FE;\n",
              "    border: none;\n",
              "    border-radius: 50%;\n",
              "    cursor: pointer;\n",
              "    display: none;\n",
              "    fill: #1967D2;\n",
              "    height: 32px;\n",
              "    padding: 0 0 0 0;\n",
              "    width: 32px;\n",
              "  }\n",
              "\n",
              "  .colab-df-quickchart:hover {\n",
              "    background-color: #E2EBFA;\n",
              "    box-shadow: 0px 1px 2px rgba(60, 64, 67, 0.3), 0px 1px 3px 1px rgba(60, 64, 67, 0.15);\n",
              "    fill: #174EA6;\n",
              "  }\n",
              "\n",
              "  [theme=dark] .colab-df-quickchart {\n",
              "    background-color: #3B4455;\n",
              "    fill: #D2E3FC;\n",
              "  }\n",
              "\n",
              "  [theme=dark] .colab-df-quickchart:hover {\n",
              "    background-color: #434B5C;\n",
              "    box-shadow: 0px 1px 3px 1px rgba(0, 0, 0, 0.15);\n",
              "    filter: drop-shadow(0px 1px 2px rgba(0, 0, 0, 0.3));\n",
              "    fill: #FFFFFF;\n",
              "  }\n",
              "</style>\n",
              "\n",
              "    <script>\n",
              "      async function quickchart(key) {\n",
              "        const containerElement = document.querySelector('#' + key);\n",
              "        const charts = await google.colab.kernel.invokeFunction(\n",
              "            'suggestCharts', [key], {});\n",
              "      }\n",
              "    </script>\n",
              "\n",
              "      <script>\n",
              "\n",
              "function displayQuickchartButton(domScope) {\n",
              "  let quickchartButtonEl =\n",
              "    domScope.querySelector('#df-702d1117-07d9-4f93-a78f-3f0fec6299a3 button.colab-df-quickchart');\n",
              "  quickchartButtonEl.style.display =\n",
              "    google.colab.kernel.accessAllowed ? 'block' : 'none';\n",
              "}\n",
              "\n",
              "        displayQuickchartButton(document);\n",
              "      </script>\n",
              "      <style>\n",
              "    .colab-df-container {\n",
              "      display:flex;\n",
              "      flex-wrap:wrap;\n",
              "      gap: 12px;\n",
              "    }\n",
              "\n",
              "    .colab-df-convert {\n",
              "      background-color: #E8F0FE;\n",
              "      border: none;\n",
              "      border-radius: 50%;\n",
              "      cursor: pointer;\n",
              "      display: none;\n",
              "      fill: #1967D2;\n",
              "      height: 32px;\n",
              "      padding: 0 0 0 0;\n",
              "      width: 32px;\n",
              "    }\n",
              "\n",
              "    .colab-df-convert:hover {\n",
              "      background-color: #E2EBFA;\n",
              "      box-shadow: 0px 1px 2px rgba(60, 64, 67, 0.3), 0px 1px 3px 1px rgba(60, 64, 67, 0.15);\n",
              "      fill: #174EA6;\n",
              "    }\n",
              "\n",
              "    [theme=dark] .colab-df-convert {\n",
              "      background-color: #3B4455;\n",
              "      fill: #D2E3FC;\n",
              "    }\n",
              "\n",
              "    [theme=dark] .colab-df-convert:hover {\n",
              "      background-color: #434B5C;\n",
              "      box-shadow: 0px 1px 3px 1px rgba(0, 0, 0, 0.15);\n",
              "      filter: drop-shadow(0px 1px 2px rgba(0, 0, 0, 0.3));\n",
              "      fill: #FFFFFF;\n",
              "    }\n",
              "  </style>\n",
              "\n",
              "      <script>\n",
              "        const buttonEl =\n",
              "          document.querySelector('#df-1d46452e-3bb1-4388-8ab6-b766b886c184 button.colab-df-convert');\n",
              "        buttonEl.style.display =\n",
              "          google.colab.kernel.accessAllowed ? 'block' : 'none';\n",
              "\n",
              "        async function convertToInteractive(key) {\n",
              "          const element = document.querySelector('#df-1d46452e-3bb1-4388-8ab6-b766b886c184');\n",
              "          const dataTable =\n",
              "            await google.colab.kernel.invokeFunction('convertToInteractive',\n",
              "                                                     [key], {});\n",
              "          if (!dataTable) return;\n",
              "\n",
              "          const docLinkHtml = 'Like what you see? Visit the ' +\n",
              "            '<a target=\"_blank\" href=https://colab.research.google.com/notebooks/data_table.ipynb>data table notebook</a>'\n",
              "            + ' to learn more about interactive tables.';\n",
              "          element.innerHTML = '';\n",
              "          dataTable['output_type'] = 'display_data';\n",
              "          await google.colab.output.renderOutput(dataTable, element);\n",
              "          const docLink = document.createElement('div');\n",
              "          docLink.innerHTML = docLinkHtml;\n",
              "          element.appendChild(docLink);\n",
              "        }\n",
              "      </script>\n",
              "    </div>\n",
              "  </div>\n"
            ]
          },
          "metadata": {},
          "execution_count": 9
        }
      ]
    },
    {
      "cell_type": "markdown",
      "metadata": {
        "id": "PVh3RAkGOcZT"
      },
      "source": [
        "### code to see the count the data tht we got:"
      ]
    },
    {
      "cell_type": "code",
      "metadata": {
        "id": "Et8QP1LHOk4h",
        "colab": {
          "base_uri": "https://localhost:8080/"
        },
        "outputId": "61b7c903-2c45-4100-d0b5-bb4d53d6b680"
      },
      "source": [
        "len(scrapeddata.index)"
      ],
      "execution_count": null,
      "outputs": [
        {
          "output_type": "execute_result",
          "data": {
            "text/plain": [
              "1400"
            ]
          },
          "metadata": {},
          "execution_count": 10
        }
      ]
    },
    {
      "cell_type": "markdown",
      "metadata": {
        "id": "5WczUNQbOvVP"
      },
      "source": [
        "###Filtering the scrapped data and sort the date"
      ]
    },
    {
      "cell_type": "code",
      "metadata": {
        "id": "7Soe-xswOx7_"
      },
      "source": [
        "scrapeddata1 = scrapeddata[['userName','at','content','score']]\n",
        "sorteddata = scrapeddata1.sort_values(by='at', ascending=False)"
      ],
      "execution_count": null,
      "outputs": []
    },
    {
      "cell_type": "code",
      "source": [
        "sorteddata.head()"
      ],
      "metadata": {
        "colab": {
          "base_uri": "https://localhost:8080/",
          "height": 337
        },
        "id": "RCk2e58OMzvf",
        "outputId": "4cbfbb1a-26cb-4403-92cd-d0a3ebcb2166"
      },
      "execution_count": null,
      "outputs": [
        {
          "output_type": "execute_result",
          "data": {
            "text/plain": [
              "           userName                  at  \\\n",
              "111        Deni IBS 2023-07-25 00:18:38   \n",
              "1252      Ds Ponsel 2023-07-24 14:09:43   \n",
              "65     Zul Zulkifli 2023-07-24 13:28:43   \n",
              "64    Risma Rosiana 2023-07-24 12:29:07   \n",
              "511        Sur Mini 2023-07-24 11:00:52   \n",
              "\n",
              "                                                content  score  \n",
              "111   Alhamdulillah aplikasi sudah berfungsi lagi de...      5  \n",
              "1252  Makin lama makin gak jelas , level awal gold ,...      1  \n",
              "65    Yg terhormat shopee indonesia tetap yg terdepa...      5  \n",
              "64    Sumpah ini Shopee knp sihh ya Allah,, tau gitu...      1  \n",
              "511   Maaf sy kasih bintang satu Makin gak jelas apl...      1  "
            ],
            "text/html": [
              "\n",
              "\n",
              "  <div id=\"df-6cc1add9-8130-47f3-8e55-d4a594ad316f\">\n",
              "    <div class=\"colab-df-container\">\n",
              "      <div>\n",
              "<style scoped>\n",
              "    .dataframe tbody tr th:only-of-type {\n",
              "        vertical-align: middle;\n",
              "    }\n",
              "\n",
              "    .dataframe tbody tr th {\n",
              "        vertical-align: top;\n",
              "    }\n",
              "\n",
              "    .dataframe thead th {\n",
              "        text-align: right;\n",
              "    }\n",
              "</style>\n",
              "<table border=\"1\" class=\"dataframe\">\n",
              "  <thead>\n",
              "    <tr style=\"text-align: right;\">\n",
              "      <th></th>\n",
              "      <th>userName</th>\n",
              "      <th>at</th>\n",
              "      <th>content</th>\n",
              "      <th>score</th>\n",
              "    </tr>\n",
              "  </thead>\n",
              "  <tbody>\n",
              "    <tr>\n",
              "      <th>111</th>\n",
              "      <td>Deni IBS</td>\n",
              "      <td>2023-07-25 00:18:38</td>\n",
              "      <td>Alhamdulillah aplikasi sudah berfungsi lagi de...</td>\n",
              "      <td>5</td>\n",
              "    </tr>\n",
              "    <tr>\n",
              "      <th>1252</th>\n",
              "      <td>Ds Ponsel</td>\n",
              "      <td>2023-07-24 14:09:43</td>\n",
              "      <td>Makin lama makin gak jelas , level awal gold ,...</td>\n",
              "      <td>1</td>\n",
              "    </tr>\n",
              "    <tr>\n",
              "      <th>65</th>\n",
              "      <td>Zul Zulkifli</td>\n",
              "      <td>2023-07-24 13:28:43</td>\n",
              "      <td>Yg terhormat shopee indonesia tetap yg terdepa...</td>\n",
              "      <td>5</td>\n",
              "    </tr>\n",
              "    <tr>\n",
              "      <th>64</th>\n",
              "      <td>Risma Rosiana</td>\n",
              "      <td>2023-07-24 12:29:07</td>\n",
              "      <td>Sumpah ini Shopee knp sihh ya Allah,, tau gitu...</td>\n",
              "      <td>1</td>\n",
              "    </tr>\n",
              "    <tr>\n",
              "      <th>511</th>\n",
              "      <td>Sur Mini</td>\n",
              "      <td>2023-07-24 11:00:52</td>\n",
              "      <td>Maaf sy kasih bintang satu Makin gak jelas apl...</td>\n",
              "      <td>1</td>\n",
              "    </tr>\n",
              "  </tbody>\n",
              "</table>\n",
              "</div>\n",
              "      <button class=\"colab-df-convert\" onclick=\"convertToInteractive('df-6cc1add9-8130-47f3-8e55-d4a594ad316f')\"\n",
              "              title=\"Convert this dataframe to an interactive table.\"\n",
              "              style=\"display:none;\">\n",
              "\n",
              "  <svg xmlns=\"http://www.w3.org/2000/svg\" height=\"24px\"viewBox=\"0 0 24 24\"\n",
              "       width=\"24px\">\n",
              "    <path d=\"M0 0h24v24H0V0z\" fill=\"none\"/>\n",
              "    <path d=\"M18.56 5.44l.94 2.06.94-2.06 2.06-.94-2.06-.94-.94-2.06-.94 2.06-2.06.94zm-11 1L8.5 8.5l.94-2.06 2.06-.94-2.06-.94L8.5 2.5l-.94 2.06-2.06.94zm10 10l.94 2.06.94-2.06 2.06-.94-2.06-.94-.94-2.06-.94 2.06-2.06.94z\"/><path d=\"M17.41 7.96l-1.37-1.37c-.4-.4-.92-.59-1.43-.59-.52 0-1.04.2-1.43.59L10.3 9.45l-7.72 7.72c-.78.78-.78 2.05 0 2.83L4 21.41c.39.39.9.59 1.41.59.51 0 1.02-.2 1.41-.59l7.78-7.78 2.81-2.81c.8-.78.8-2.07 0-2.86zM5.41 20L4 18.59l7.72-7.72 1.47 1.35L5.41 20z\"/>\n",
              "  </svg>\n",
              "      </button>\n",
              "\n",
              "\n",
              "\n",
              "    <div id=\"df-63a86127-7f84-474e-a0c0-96c324153266\">\n",
              "      <button class=\"colab-df-quickchart\" onclick=\"quickchart('df-63a86127-7f84-474e-a0c0-96c324153266')\"\n",
              "              title=\"Suggest charts.\"\n",
              "              style=\"display:none;\">\n",
              "\n",
              "<svg xmlns=\"http://www.w3.org/2000/svg\" height=\"24px\"viewBox=\"0 0 24 24\"\n",
              "     width=\"24px\">\n",
              "    <g>\n",
              "        <path d=\"M19 3H5c-1.1 0-2 .9-2 2v14c0 1.1.9 2 2 2h14c1.1 0 2-.9 2-2V5c0-1.1-.9-2-2-2zM9 17H7v-7h2v7zm4 0h-2V7h2v10zm4 0h-2v-4h2v4z\"/>\n",
              "    </g>\n",
              "</svg>\n",
              "      </button>\n",
              "    </div>\n",
              "\n",
              "<style>\n",
              "  .colab-df-quickchart {\n",
              "    background-color: #E8F0FE;\n",
              "    border: none;\n",
              "    border-radius: 50%;\n",
              "    cursor: pointer;\n",
              "    display: none;\n",
              "    fill: #1967D2;\n",
              "    height: 32px;\n",
              "    padding: 0 0 0 0;\n",
              "    width: 32px;\n",
              "  }\n",
              "\n",
              "  .colab-df-quickchart:hover {\n",
              "    background-color: #E2EBFA;\n",
              "    box-shadow: 0px 1px 2px rgba(60, 64, 67, 0.3), 0px 1px 3px 1px rgba(60, 64, 67, 0.15);\n",
              "    fill: #174EA6;\n",
              "  }\n",
              "\n",
              "  [theme=dark] .colab-df-quickchart {\n",
              "    background-color: #3B4455;\n",
              "    fill: #D2E3FC;\n",
              "  }\n",
              "\n",
              "  [theme=dark] .colab-df-quickchart:hover {\n",
              "    background-color: #434B5C;\n",
              "    box-shadow: 0px 1px 3px 1px rgba(0, 0, 0, 0.15);\n",
              "    filter: drop-shadow(0px 1px 2px rgba(0, 0, 0, 0.3));\n",
              "    fill: #FFFFFF;\n",
              "  }\n",
              "</style>\n",
              "\n",
              "    <script>\n",
              "      async function quickchart(key) {\n",
              "        const containerElement = document.querySelector('#' + key);\n",
              "        const charts = await google.colab.kernel.invokeFunction(\n",
              "            'suggestCharts', [key], {});\n",
              "      }\n",
              "    </script>\n",
              "\n",
              "      <script>\n",
              "\n",
              "function displayQuickchartButton(domScope) {\n",
              "  let quickchartButtonEl =\n",
              "    domScope.querySelector('#df-63a86127-7f84-474e-a0c0-96c324153266 button.colab-df-quickchart');\n",
              "  quickchartButtonEl.style.display =\n",
              "    google.colab.kernel.accessAllowed ? 'block' : 'none';\n",
              "}\n",
              "\n",
              "        displayQuickchartButton(document);\n",
              "      </script>\n",
              "      <style>\n",
              "    .colab-df-container {\n",
              "      display:flex;\n",
              "      flex-wrap:wrap;\n",
              "      gap: 12px;\n",
              "    }\n",
              "\n",
              "    .colab-df-convert {\n",
              "      background-color: #E8F0FE;\n",
              "      border: none;\n",
              "      border-radius: 50%;\n",
              "      cursor: pointer;\n",
              "      display: none;\n",
              "      fill: #1967D2;\n",
              "      height: 32px;\n",
              "      padding: 0 0 0 0;\n",
              "      width: 32px;\n",
              "    }\n",
              "\n",
              "    .colab-df-convert:hover {\n",
              "      background-color: #E2EBFA;\n",
              "      box-shadow: 0px 1px 2px rgba(60, 64, 67, 0.3), 0px 1px 3px 1px rgba(60, 64, 67, 0.15);\n",
              "      fill: #174EA6;\n",
              "    }\n",
              "\n",
              "    [theme=dark] .colab-df-convert {\n",
              "      background-color: #3B4455;\n",
              "      fill: #D2E3FC;\n",
              "    }\n",
              "\n",
              "    [theme=dark] .colab-df-convert:hover {\n",
              "      background-color: #434B5C;\n",
              "      box-shadow: 0px 1px 3px 1px rgba(0, 0, 0, 0.15);\n",
              "      filter: drop-shadow(0px 1px 2px rgba(0, 0, 0, 0.3));\n",
              "      fill: #FFFFFF;\n",
              "    }\n",
              "  </style>\n",
              "\n",
              "      <script>\n",
              "        const buttonEl =\n",
              "          document.querySelector('#df-6cc1add9-8130-47f3-8e55-d4a594ad316f button.colab-df-convert');\n",
              "        buttonEl.style.display =\n",
              "          google.colab.kernel.accessAllowed ? 'block' : 'none';\n",
              "\n",
              "        async function convertToInteractive(key) {\n",
              "          const element = document.querySelector('#df-6cc1add9-8130-47f3-8e55-d4a594ad316f');\n",
              "          const dataTable =\n",
              "            await google.colab.kernel.invokeFunction('convertToInteractive',\n",
              "                                                     [key], {});\n",
              "          if (!dataTable) return;\n",
              "\n",
              "          const docLinkHtml = 'Like what you see? Visit the ' +\n",
              "            '<a target=\"_blank\" href=https://colab.research.google.com/notebooks/data_table.ipynb>data table notebook</a>'\n",
              "            + ' to learn more about interactive tables.';\n",
              "          element.innerHTML = '';\n",
              "          dataTable['output_type'] = 'display_data';\n",
              "          await google.colab.output.renderOutput(dataTable, element);\n",
              "          const docLink = document.createElement('div');\n",
              "          docLink.innerHTML = docLinkHtml;\n",
              "          element.appendChild(docLink);\n",
              "        }\n",
              "      </script>\n",
              "    </div>\n",
              "  </div>\n"
            ]
          },
          "metadata": {},
          "execution_count": 12
        }
      ]
    },
    {
      "cell_type": "code",
      "metadata": {
        "id": "FLoAVaz3P4Me"
      },
      "source": [
        "sorteddata.to_excel(\"scrapping_playstore_shopee.xlsx\", index = False)"
      ],
      "execution_count": null,
      "outputs": []
    },
    {
      "cell_type": "code",
      "metadata": {
        "id": "M8s665UhOrdM"
      },
      "source": [
        "sorteddata.to_csv(\"scrapping_playstore_shopee.csv\", index = False)"
      ],
      "execution_count": null,
      "outputs": []
    }
  ]
}